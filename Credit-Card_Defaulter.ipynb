{
 "cells": [
  {
   "cell_type": "code",
   "execution_count": 1,
   "id": "d3baa837",
   "metadata": {},
   "outputs": [],
   "source": [
    "import pandas as pd\n",
    "import matplotlib.pyplot as plt"
   ]
  },
  {
   "cell_type": "code",
   "execution_count": 2,
   "id": "49ed5b97",
   "metadata": {},
   "outputs": [],
   "source": [
    "df_train = pd.read_csv('../../../datasets/cc_train.csv')\n",
    "df_test = pd.read_csv('../../../datasets/cc_test.csv')"
   ]
  },
  {
   "cell_type": "code",
   "execution_count": 3,
   "id": "1dfaad59",
   "metadata": {},
   "outputs": [
    {
     "data": {
      "text/html": [
       "<div>\n",
       "<style scoped>\n",
       "    .dataframe tbody tr th:only-of-type {\n",
       "        vertical-align: middle;\n",
       "    }\n",
       "\n",
       "    .dataframe tbody tr th {\n",
       "        vertical-align: top;\n",
       "    }\n",
       "\n",
       "    .dataframe thead th {\n",
       "        text-align: right;\n",
       "    }\n",
       "</style>\n",
       "<table border=\"1\" class=\"dataframe\">\n",
       "  <thead>\n",
       "    <tr style=\"text-align: right;\">\n",
       "      <th></th>\n",
       "      <th>LIMIT_BAL</th>\n",
       "      <th>AGE</th>\n",
       "      <th>PAY_0</th>\n",
       "      <th>PAY_2</th>\n",
       "      <th>PAY_3</th>\n",
       "      <th>PAY_4</th>\n",
       "      <th>PAY_5</th>\n",
       "      <th>PAY_6</th>\n",
       "      <th>BILL_AMT1</th>\n",
       "      <th>BILL_AMT2</th>\n",
       "      <th>...</th>\n",
       "      <th>PAY_AMT2</th>\n",
       "      <th>PAY_AMT3</th>\n",
       "      <th>PAY_AMT4</th>\n",
       "      <th>PAY_AMT5</th>\n",
       "      <th>PAY_AMT6</th>\n",
       "      <th>GENDER</th>\n",
       "      <th>QUALIFICATION</th>\n",
       "      <th>MARRIED</th>\n",
       "      <th>defaulter</th>\n",
       "      <th>Id</th>\n",
       "    </tr>\n",
       "  </thead>\n",
       "  <tbody>\n",
       "    <tr>\n",
       "      <th>0</th>\n",
       "      <td>290000.0</td>\n",
       "      <td>50</td>\n",
       "      <td>-1.0</td>\n",
       "      <td>-1.0</td>\n",
       "      <td>-1.0</td>\n",
       "      <td>-1.0</td>\n",
       "      <td>-1.0</td>\n",
       "      <td>-1.0</td>\n",
       "      <td>NaN</td>\n",
       "      <td>199.0</td>\n",
       "      <td>...</td>\n",
       "      <td>1440.0</td>\n",
       "      <td>1017.0</td>\n",
       "      <td>3798.0</td>\n",
       "      <td>4898</td>\n",
       "      <td>5034.0</td>\n",
       "      <td>FEMALE</td>\n",
       "      <td>2</td>\n",
       "      <td>1.0</td>\n",
       "      <td>0</td>\n",
       "      <td>1</td>\n",
       "    </tr>\n",
       "    <tr>\n",
       "      <th>1</th>\n",
       "      <td>20000.0</td>\n",
       "      <td>49</td>\n",
       "      <td>0.0</td>\n",
       "      <td>0.0</td>\n",
       "      <td>0.0</td>\n",
       "      <td>0.0</td>\n",
       "      <td>NaN</td>\n",
       "      <td>0.0</td>\n",
       "      <td>19773.0</td>\n",
       "      <td>18459.0</td>\n",
       "      <td>...</td>\n",
       "      <td>1270.0</td>\n",
       "      <td>633.0</td>\n",
       "      <td>655.0</td>\n",
       "      <td>759</td>\n",
       "      <td>547.0</td>\n",
       "      <td>FEMALE</td>\n",
       "      <td>2</td>\n",
       "      <td>3.0</td>\n",
       "      <td>1</td>\n",
       "      <td>2</td>\n",
       "    </tr>\n",
       "    <tr>\n",
       "      <th>2</th>\n",
       "      <td>230000.0</td>\n",
       "      <td>28</td>\n",
       "      <td>0.0</td>\n",
       "      <td>0.0</td>\n",
       "      <td>0.0</td>\n",
       "      <td>0.0</td>\n",
       "      <td>0.0</td>\n",
       "      <td>0.0</td>\n",
       "      <td>20356.0</td>\n",
       "      <td>21504.0</td>\n",
       "      <td>...</td>\n",
       "      <td>1700.0</td>\n",
       "      <td>2007.0</td>\n",
       "      <td>1000.0</td>\n",
       "      <td>1000</td>\n",
       "      <td>1000.0</td>\n",
       "      <td>FEMALE</td>\n",
       "      <td>1</td>\n",
       "      <td>2.0</td>\n",
       "      <td>0</td>\n",
       "      <td>3</td>\n",
       "    </tr>\n",
       "    <tr>\n",
       "      <th>3</th>\n",
       "      <td>210000.0</td>\n",
       "      <td>31</td>\n",
       "      <td>-1.0</td>\n",
       "      <td>-1.0</td>\n",
       "      <td>-1.0</td>\n",
       "      <td>-1.0</td>\n",
       "      <td>-1.0</td>\n",
       "      <td>-1.0</td>\n",
       "      <td>8600.0</td>\n",
       "      <td>0.0</td>\n",
       "      <td>...</td>\n",
       "      <td>4231.0</td>\n",
       "      <td>4221.0</td>\n",
       "      <td>4221.0</td>\n",
       "      <td>4483</td>\n",
       "      <td>4300.0</td>\n",
       "      <td>FEMALE</td>\n",
       "      <td>1</td>\n",
       "      <td>1.0</td>\n",
       "      <td>0</td>\n",
       "      <td>4</td>\n",
       "    </tr>\n",
       "    <tr>\n",
       "      <th>4</th>\n",
       "      <td>300000.0</td>\n",
       "      <td>24</td>\n",
       "      <td>-2.0</td>\n",
       "      <td>-2.0</td>\n",
       "      <td>-2.0</td>\n",
       "      <td>-2.0</td>\n",
       "      <td>-1.0</td>\n",
       "      <td>-1.0</td>\n",
       "      <td>-158.0</td>\n",
       "      <td>-158.0</td>\n",
       "      <td>...</td>\n",
       "      <td>0.0</td>\n",
       "      <td>0.0</td>\n",
       "      <td>300.0</td>\n",
       "      <td>100</td>\n",
       "      <td>100.0</td>\n",
       "      <td>MALE</td>\n",
       "      <td>2</td>\n",
       "      <td>2.0</td>\n",
       "      <td>0</td>\n",
       "      <td>5</td>\n",
       "    </tr>\n",
       "  </tbody>\n",
       "</table>\n",
       "<p>5 rows × 25 columns</p>\n",
       "</div>"
      ],
      "text/plain": [
       "   LIMIT_BAL  AGE  PAY_0  PAY_2  PAY_3  PAY_4  PAY_5  PAY_6  BILL_AMT1  \\\n",
       "0   290000.0   50   -1.0   -1.0   -1.0   -1.0   -1.0   -1.0        NaN   \n",
       "1    20000.0   49    0.0    0.0    0.0    0.0    NaN    0.0    19773.0   \n",
       "2   230000.0   28    0.0    0.0    0.0    0.0    0.0    0.0    20356.0   \n",
       "3   210000.0   31   -1.0   -1.0   -1.0   -1.0   -1.0   -1.0     8600.0   \n",
       "4   300000.0   24   -2.0   -2.0   -2.0   -2.0   -1.0   -1.0     -158.0   \n",
       "\n",
       "   BILL_AMT2  ...  PAY_AMT2  PAY_AMT3  PAY_AMT4  PAY_AMT5  PAY_AMT6  GENDER  \\\n",
       "0      199.0  ...    1440.0    1017.0    3798.0      4898    5034.0  FEMALE   \n",
       "1    18459.0  ...    1270.0     633.0     655.0       759     547.0  FEMALE   \n",
       "2    21504.0  ...    1700.0    2007.0    1000.0      1000    1000.0  FEMALE   \n",
       "3        0.0  ...    4231.0    4221.0    4221.0      4483    4300.0  FEMALE   \n",
       "4     -158.0  ...       0.0       0.0     300.0       100     100.0    MALE   \n",
       "\n",
       "   QUALIFICATION  MARRIED  defaulter  Id  \n",
       "0              2      1.0          0   1  \n",
       "1              2      3.0          1   2  \n",
       "2              1      2.0          0   3  \n",
       "3              1      1.0          0   4  \n",
       "4              2      2.0          0   5  \n",
       "\n",
       "[5 rows x 25 columns]"
      ]
     },
     "execution_count": 3,
     "metadata": {},
     "output_type": "execute_result"
    }
   ],
   "source": [
    "df_train.head()"
   ]
  },
  {
   "cell_type": "code",
   "execution_count": 4,
   "id": "6b2380cd",
   "metadata": {},
   "outputs": [
    {
     "data": {
      "text/html": [
       "<div>\n",
       "<style scoped>\n",
       "    .dataframe tbody tr th:only-of-type {\n",
       "        vertical-align: middle;\n",
       "    }\n",
       "\n",
       "    .dataframe tbody tr th {\n",
       "        vertical-align: top;\n",
       "    }\n",
       "\n",
       "    .dataframe thead th {\n",
       "        text-align: right;\n",
       "    }\n",
       "</style>\n",
       "<table border=\"1\" class=\"dataframe\">\n",
       "  <thead>\n",
       "    <tr style=\"text-align: right;\">\n",
       "      <th></th>\n",
       "      <th>LIMIT_BAL</th>\n",
       "      <th>AGE</th>\n",
       "      <th>PAY_0</th>\n",
       "      <th>PAY_2</th>\n",
       "      <th>PAY_3</th>\n",
       "      <th>PAY_4</th>\n",
       "      <th>PAY_5</th>\n",
       "      <th>PAY_6</th>\n",
       "      <th>BILL_AMT1</th>\n",
       "      <th>BILL_AMT2</th>\n",
       "      <th>...</th>\n",
       "      <th>PAY_AMT1</th>\n",
       "      <th>PAY_AMT2</th>\n",
       "      <th>PAY_AMT3</th>\n",
       "      <th>PAY_AMT4</th>\n",
       "      <th>PAY_AMT5</th>\n",
       "      <th>PAY_AMT6</th>\n",
       "      <th>GENDER</th>\n",
       "      <th>QUALIFICATION</th>\n",
       "      <th>MARRIED</th>\n",
       "      <th>Id</th>\n",
       "    </tr>\n",
       "  </thead>\n",
       "  <tbody>\n",
       "    <tr>\n",
       "      <th>0</th>\n",
       "      <td>350000.0</td>\n",
       "      <td>31</td>\n",
       "      <td>-2.0</td>\n",
       "      <td>-2.0</td>\n",
       "      <td>-2.0</td>\n",
       "      <td>-2.0</td>\n",
       "      <td>-2.0</td>\n",
       "      <td>-2.0</td>\n",
       "      <td>951.0</td>\n",
       "      <td>601.0</td>\n",
       "      <td>...</td>\n",
       "      <td>605.0</td>\n",
       "      <td>716.0</td>\n",
       "      <td>263.0</td>\n",
       "      <td>900.0</td>\n",
       "      <td>1271</td>\n",
       "      <td>NaN</td>\n",
       "      <td>FEMALE</td>\n",
       "      <td>1</td>\n",
       "      <td>2.0</td>\n",
       "      <td>20001</td>\n",
       "    </tr>\n",
       "    <tr>\n",
       "      <th>1</th>\n",
       "      <td>10000.0</td>\n",
       "      <td>27</td>\n",
       "      <td>0.0</td>\n",
       "      <td>0.0</td>\n",
       "      <td>0.0</td>\n",
       "      <td>0.0</td>\n",
       "      <td>0.0</td>\n",
       "      <td>0.0</td>\n",
       "      <td>8907.0</td>\n",
       "      <td>6599.0</td>\n",
       "      <td>...</td>\n",
       "      <td>1500.0</td>\n",
       "      <td>1400.0</td>\n",
       "      <td>1000.0</td>\n",
       "      <td>1009.0</td>\n",
       "      <td>1000</td>\n",
       "      <td>1598.0</td>\n",
       "      <td>MALE</td>\n",
       "      <td>1</td>\n",
       "      <td>2.0</td>\n",
       "      <td>20002</td>\n",
       "    </tr>\n",
       "    <tr>\n",
       "      <th>2</th>\n",
       "      <td>350000.0</td>\n",
       "      <td>34</td>\n",
       "      <td>0.0</td>\n",
       "      <td>0.0</td>\n",
       "      <td>0.0</td>\n",
       "      <td>0.0</td>\n",
       "      <td>0.0</td>\n",
       "      <td>0.0</td>\n",
       "      <td>92134.0</td>\n",
       "      <td>120340.0</td>\n",
       "      <td>...</td>\n",
       "      <td>30000.0</td>\n",
       "      <td>NaN</td>\n",
       "      <td>5000.0</td>\n",
       "      <td>NaN</td>\n",
       "      <td>4000</td>\n",
       "      <td>5000.0</td>\n",
       "      <td>MALE</td>\n",
       "      <td>1</td>\n",
       "      <td>2.0</td>\n",
       "      <td>20003</td>\n",
       "    </tr>\n",
       "    <tr>\n",
       "      <th>3</th>\n",
       "      <td>20000.0</td>\n",
       "      <td>40</td>\n",
       "      <td>-1.0</td>\n",
       "      <td>-1.0</td>\n",
       "      <td>-1.0</td>\n",
       "      <td>-2.0</td>\n",
       "      <td>-1.0</td>\n",
       "      <td>-1.0</td>\n",
       "      <td>1925.0</td>\n",
       "      <td>500.0</td>\n",
       "      <td>...</td>\n",
       "      <td>500.0</td>\n",
       "      <td>0.0</td>\n",
       "      <td>0.0</td>\n",
       "      <td>6360.0</td>\n",
       "      <td>11220</td>\n",
       "      <td>0.0</td>\n",
       "      <td>FEMALE</td>\n",
       "      <td>1</td>\n",
       "      <td>1.0</td>\n",
       "      <td>20004</td>\n",
       "    </tr>\n",
       "    <tr>\n",
       "      <th>4</th>\n",
       "      <td>210000.0</td>\n",
       "      <td>39</td>\n",
       "      <td>1.0</td>\n",
       "      <td>-1.0</td>\n",
       "      <td>NaN</td>\n",
       "      <td>-1.0</td>\n",
       "      <td>-1.0</td>\n",
       "      <td>-1.0</td>\n",
       "      <td>0.0</td>\n",
       "      <td>650.0</td>\n",
       "      <td>...</td>\n",
       "      <td>650.0</td>\n",
       "      <td>325.0</td>\n",
       "      <td>325.0</td>\n",
       "      <td>325.0</td>\n",
       "      <td>325</td>\n",
       "      <td>325.0</td>\n",
       "      <td>MALE</td>\n",
       "      <td>2</td>\n",
       "      <td>1.0</td>\n",
       "      <td>20005</td>\n",
       "    </tr>\n",
       "  </tbody>\n",
       "</table>\n",
       "<p>5 rows × 24 columns</p>\n",
       "</div>"
      ],
      "text/plain": [
       "   LIMIT_BAL  AGE  PAY_0  PAY_2  PAY_3  PAY_4  PAY_5  PAY_6  BILL_AMT1  \\\n",
       "0   350000.0   31   -2.0   -2.0   -2.0   -2.0   -2.0   -2.0      951.0   \n",
       "1    10000.0   27    0.0    0.0    0.0    0.0    0.0    0.0     8907.0   \n",
       "2   350000.0   34    0.0    0.0    0.0    0.0    0.0    0.0    92134.0   \n",
       "3    20000.0   40   -1.0   -1.0   -1.0   -2.0   -1.0   -1.0     1925.0   \n",
       "4   210000.0   39    1.0   -1.0    NaN   -1.0   -1.0   -1.0        0.0   \n",
       "\n",
       "   BILL_AMT2  ...  PAY_AMT1  PAY_AMT2  PAY_AMT3  PAY_AMT4  PAY_AMT5  PAY_AMT6  \\\n",
       "0      601.0  ...     605.0     716.0     263.0     900.0      1271       NaN   \n",
       "1     6599.0  ...    1500.0    1400.0    1000.0    1009.0      1000    1598.0   \n",
       "2   120340.0  ...   30000.0       NaN    5000.0       NaN      4000    5000.0   \n",
       "3      500.0  ...     500.0       0.0       0.0    6360.0     11220       0.0   \n",
       "4      650.0  ...     650.0     325.0     325.0     325.0       325     325.0   \n",
       "\n",
       "   GENDER  QUALIFICATION  MARRIED     Id  \n",
       "0  FEMALE              1      2.0  20001  \n",
       "1    MALE              1      2.0  20002  \n",
       "2    MALE              1      2.0  20003  \n",
       "3  FEMALE              1      1.0  20004  \n",
       "4    MALE              2      1.0  20005  \n",
       "\n",
       "[5 rows x 24 columns]"
      ]
     },
     "execution_count": 4,
     "metadata": {},
     "output_type": "execute_result"
    }
   ],
   "source": [
    "df_test.head()"
   ]
  },
  {
   "cell_type": "code",
   "execution_count": 5,
   "id": "bf180634",
   "metadata": {},
   "outputs": [
    {
     "data": {
      "text/plain": [
       "LIMIT_BAL        1300\n",
       "AGE                 0\n",
       "PAY_0             656\n",
       "PAY_2            1859\n",
       "PAY_3            1249\n",
       "PAY_4             684\n",
       "PAY_5             677\n",
       "PAY_6            1345\n",
       "BILL_AMT1        1870\n",
       "BILL_AMT2        1319\n",
       "BILL_AMT3         677\n",
       "BILL_AMT4           0\n",
       "BILL_AMT5         682\n",
       "BILL_AMT6           0\n",
       "PAY_AMT1         1310\n",
       "PAY_AMT2         1237\n",
       "PAY_AMT3         1309\n",
       "PAY_AMT4          682\n",
       "PAY_AMT5            0\n",
       "PAY_AMT6          688\n",
       "GENDER              0\n",
       "QUALIFICATION       0\n",
       "MARRIED          1326\n",
       "defaulter           0\n",
       "Id                  0\n",
       "dtype: int64"
      ]
     },
     "execution_count": 5,
     "metadata": {},
     "output_type": "execute_result"
    }
   ],
   "source": [
    "df_train.isna().sum()"
   ]
  },
  {
   "cell_type": "code",
   "execution_count": 6,
   "id": "8a9b311e",
   "metadata": {},
   "outputs": [
    {
     "data": {
      "text/plain": [
       "LIMIT_BAL        320\n",
       "AGE                0\n",
       "PAY_0            164\n",
       "PAY_2            465\n",
       "PAY_3            328\n",
       "PAY_4            169\n",
       "PAY_5            171\n",
       "PAY_6            299\n",
       "BILL_AMT1        465\n",
       "BILL_AMT2        318\n",
       "BILL_AMT3        174\n",
       "BILL_AMT4          0\n",
       "BILL_AMT5        161\n",
       "BILL_AMT6          0\n",
       "PAY_AMT1         349\n",
       "PAY_AMT2         302\n",
       "PAY_AMT3         368\n",
       "PAY_AMT4         161\n",
       "PAY_AMT5           0\n",
       "PAY_AMT6         192\n",
       "GENDER             0\n",
       "QUALIFICATION      0\n",
       "MARRIED          321\n",
       "Id                 0\n",
       "dtype: int64"
      ]
     },
     "execution_count": 6,
     "metadata": {},
     "output_type": "execute_result"
    }
   ],
   "source": [
    "df_test.isna().sum()"
   ]
  },
  {
   "cell_type": "code",
   "execution_count": 7,
   "id": "a8c86a26",
   "metadata": {},
   "outputs": [
    {
     "data": {
      "text/plain": [
       "LIMIT_BAL        float64\n",
       "AGE                int64\n",
       "PAY_0            float64\n",
       "PAY_2            float64\n",
       "PAY_3            float64\n",
       "PAY_4            float64\n",
       "PAY_5            float64\n",
       "PAY_6            float64\n",
       "BILL_AMT1        float64\n",
       "BILL_AMT2        float64\n",
       "BILL_AMT3        float64\n",
       "BILL_AMT4          int64\n",
       "BILL_AMT5        float64\n",
       "BILL_AMT6          int64\n",
       "PAY_AMT1         float64\n",
       "PAY_AMT2         float64\n",
       "PAY_AMT3         float64\n",
       "PAY_AMT4         float64\n",
       "PAY_AMT5           int64\n",
       "PAY_AMT6         float64\n",
       "GENDER            object\n",
       "QUALIFICATION      int64\n",
       "MARRIED          float64\n",
       "defaulter          int64\n",
       "Id                 int64\n",
       "dtype: object"
      ]
     },
     "execution_count": 7,
     "metadata": {},
     "output_type": "execute_result"
    }
   ],
   "source": [
    "df_train.dtypes"
   ]
  },
  {
   "cell_type": "code",
   "execution_count": 8,
   "id": "7a7bd850",
   "metadata": {},
   "outputs": [
    {
     "data": {
      "text/plain": [
       "LIMIT_BAL        float64\n",
       "AGE                int64\n",
       "PAY_0            float64\n",
       "PAY_2            float64\n",
       "PAY_3            float64\n",
       "PAY_4            float64\n",
       "PAY_5            float64\n",
       "PAY_6            float64\n",
       "BILL_AMT1        float64\n",
       "BILL_AMT2        float64\n",
       "BILL_AMT3        float64\n",
       "BILL_AMT4          int64\n",
       "BILL_AMT5        float64\n",
       "BILL_AMT6          int64\n",
       "PAY_AMT1         float64\n",
       "PAY_AMT2         float64\n",
       "PAY_AMT3         float64\n",
       "PAY_AMT4         float64\n",
       "PAY_AMT5           int64\n",
       "PAY_AMT6         float64\n",
       "GENDER            object\n",
       "QUALIFICATION      int64\n",
       "MARRIED          float64\n",
       "Id                 int64\n",
       "dtype: object"
      ]
     },
     "execution_count": 8,
     "metadata": {},
     "output_type": "execute_result"
    }
   ],
   "source": [
    "df_test.dtypes"
   ]
  },
  {
   "cell_type": "code",
   "execution_count": 9,
   "id": "e7e3045f",
   "metadata": {},
   "outputs": [
    {
     "data": {
      "text/plain": [
       "['LIMIT_BAL',\n",
       " 'AGE',\n",
       " 'PAY_0',\n",
       " 'PAY_2',\n",
       " 'PAY_3',\n",
       " 'PAY_4',\n",
       " 'PAY_5',\n",
       " 'PAY_6',\n",
       " 'BILL_AMT1',\n",
       " 'BILL_AMT2',\n",
       " 'BILL_AMT3',\n",
       " 'BILL_AMT4',\n",
       " 'BILL_AMT5',\n",
       " 'BILL_AMT6',\n",
       " 'PAY_AMT1',\n",
       " 'PAY_AMT2',\n",
       " 'PAY_AMT3',\n",
       " 'PAY_AMT4',\n",
       " 'PAY_AMT5',\n",
       " 'PAY_AMT6',\n",
       " 'QUALIFICATION',\n",
       " 'MARRIED']"
      ]
     },
     "execution_count": 9,
     "metadata": {},
     "output_type": "execute_result"
    }
   ],
   "source": [
    "col_num = list(df_train.select_dtypes(exclude='object').columns)\n",
    "\n",
    "col_num.remove('defaulter')\n",
    "col_num.remove('Id')\n",
    "\n",
    "col_num"
   ]
  },
  {
   "cell_type": "code",
   "execution_count": 10,
   "id": "29ae29bb",
   "metadata": {},
   "outputs": [
    {
     "data": {
      "text/plain": [
       "['GENDER']"
      ]
     },
     "execution_count": 10,
     "metadata": {},
     "output_type": "execute_result"
    }
   ],
   "source": [
    "col_cat = list(df_train.select_dtypes(include='object').columns)\n",
    "\n",
    "col_cat"
   ]
  },
  {
   "cell_type": "code",
   "execution_count": 12,
   "id": "fc0ff824",
   "metadata": {},
   "outputs": [],
   "source": [
    "# Imputation/Filling Missing Data"
   ]
  },
  {
   "cell_type": "code",
   "execution_count": 11,
   "id": "eb9d8497",
   "metadata": {},
   "outputs": [],
   "source": [
    "from sklearn.impute import SimpleImputer"
   ]
  },
  {
   "cell_type": "code",
   "execution_count": 13,
   "id": "60c8f39a",
   "metadata": {},
   "outputs": [],
   "source": [
    "#For numeric data\n",
    "imputer_num = SimpleImputer(strategy='median')\n",
    "\n",
    "imputer_num.fit(df_train[col_num])\n",
    "\n",
    "df_train[col_num] = imputer_num.transform(df_train[col_num])\n",
    "df_test[col_num] = imputer_num.transform(df_test[col_num])\n",
    "\n",
    "\n",
    "#For categorical data\n",
    "imputer_cat = SimpleImputer(strategy='most_frequent')\n",
    "\n",
    "imputer_cat.fit(df_train[col_cat])\n",
    "\n",
    "df_train[col_cat] = imputer_cat.transform(df_train[col_cat])\n",
    "df_test[col_cat] = imputer_cat.transform(df_test[col_cat])"
   ]
  },
  {
   "cell_type": "code",
   "execution_count": 14,
   "id": "6531ef46",
   "metadata": {},
   "outputs": [],
   "source": [
    "# Encoding"
   ]
  },
  {
   "cell_type": "code",
   "execution_count": 15,
   "id": "d97061eb",
   "metadata": {},
   "outputs": [],
   "source": [
    "df_train.GENDER = df_train.GENDER.map({'FEMALE':0,'MALE':1})\n",
    "df_test.GENDER = df_test.GENDER.map({'FEMALE':0,'MALE':1})"
   ]
  },
  {
   "cell_type": "code",
   "execution_count": 16,
   "id": "bd7458be",
   "metadata": {},
   "outputs": [],
   "source": [
    "# Scaling"
   ]
  },
  {
   "cell_type": "code",
   "execution_count": 17,
   "id": "1d9461d1",
   "metadata": {},
   "outputs": [],
   "source": [
    "from sklearn.preprocessing import MinMaxScaler"
   ]
  },
  {
   "cell_type": "code",
   "execution_count": 18,
   "id": "f4baef64",
   "metadata": {},
   "outputs": [],
   "source": [
    "scaler = MinMaxScaler()\n",
    "\n",
    "scaler.fit(df_train[col_num])\n",
    "\n",
    "df_train[col_num] = scaler.transform(df_train[col_num])\n",
    "df_test[col_num] = scaler.transform(df_test[col_num])"
   ]
  },
  {
   "cell_type": "code",
   "execution_count": 19,
   "id": "a15c2aba",
   "metadata": {},
   "outputs": [],
   "source": [
    "# Correlation/Feature Selection"
   ]
  },
  {
   "cell_type": "code",
   "execution_count": 20,
   "id": "0b53894f",
   "metadata": {},
   "outputs": [
    {
     "data": {
      "text/plain": [
       "LIMIT_BAL       -0.149337\n",
       "AGE              0.006791\n",
       "PAY_0            0.314841\n",
       "PAY_2            0.249062\n",
       "PAY_3            0.226227\n",
       "PAY_4            0.210773\n",
       "PAY_5            0.198678\n",
       "PAY_6            0.176205\n",
       "BILL_AMT1       -0.022614\n",
       "BILL_AMT2       -0.025681\n",
       "BILL_AMT3       -0.022111\n",
       "BILL_AMT4       -0.020788\n",
       "BILL_AMT5       -0.019810\n",
       "BILL_AMT6       -0.018142\n",
       "PAY_AMT1        -0.074820\n",
       "PAY_AMT2        -0.058242\n",
       "PAY_AMT3        -0.053582\n",
       "PAY_AMT4        -0.060916\n",
       "PAY_AMT5        -0.055519\n",
       "PAY_AMT6        -0.056593\n",
       "GENDER           0.043314\n",
       "QUALIFICATION    0.030473\n",
       "MARRIED         -0.023839\n",
       "defaulter        1.000000\n",
       "Id               0.006318\n",
       "Name: defaulter, dtype: float64"
      ]
     },
     "execution_count": 20,
     "metadata": {},
     "output_type": "execute_result"
    }
   ],
   "source": [
    "df_train.corr()['defaulter']"
   ]
  },
  {
   "cell_type": "code",
   "execution_count": 21,
   "id": "5dc1e32d",
   "metadata": {},
   "outputs": [
    {
     "data": {
      "text/plain": [
       "['LIMIT_BAL',\n",
       " 'PAY_0',\n",
       " 'PAY_2',\n",
       " 'PAY_3',\n",
       " 'PAY_4',\n",
       " 'PAY_5',\n",
       " 'PAY_6',\n",
       " 'PAY_AMT1',\n",
       " 'PAY_AMT2',\n",
       " 'PAY_AMT3',\n",
       " 'PAY_AMT4',\n",
       " 'PAY_AMT5',\n",
       " 'PAY_AMT6',\n",
       " 'GENDER',\n",
       " 'QUALIFICATION',\n",
       " 'defaulter']"
      ]
     },
     "execution_count": 21,
     "metadata": {},
     "output_type": "execute_result"
    }
   ],
   "source": [
    "list(df_train.corr()['defaulter'][(df_train.corr()['defaulter']>=0.03)|(df_train.corr()['defaulter']<=-0.03)].index)"
   ]
  },
  {
   "cell_type": "code",
   "execution_count": 22,
   "id": "552da172",
   "metadata": {},
   "outputs": [],
   "source": [
    "# Removing less correalated columns"
   ]
  },
  {
   "cell_type": "code",
   "execution_count": 23,
   "id": "d8bfdfa7",
   "metadata": {},
   "outputs": [],
   "source": [
    "col_num.remove('AGE')\n",
    "col_num.remove('BILL_AMT1')\n",
    "col_num.remove('BILL_AMT2')\n",
    "col_num.remove('BILL_AMT3')\n",
    "col_num.remove('BILL_AMT4')\n",
    "col_num.remove('BILL_AMT5')\n",
    "col_num.remove('BILL_AMT6')\n",
    "col_num.remove('MARRIED')"
   ]
  },
  {
   "cell_type": "code",
   "execution_count": 24,
   "id": "ff35b1a9",
   "metadata": {},
   "outputs": [],
   "source": [
    "col_final = col_num+col_cat"
   ]
  },
  {
   "cell_type": "code",
   "execution_count": 25,
   "id": "2cce3f7b",
   "metadata": {},
   "outputs": [
    {
     "data": {
      "text/plain": [
       "['LIMIT_BAL',\n",
       " 'PAY_0',\n",
       " 'PAY_2',\n",
       " 'PAY_3',\n",
       " 'PAY_4',\n",
       " 'PAY_5',\n",
       " 'PAY_6',\n",
       " 'PAY_AMT1',\n",
       " 'PAY_AMT2',\n",
       " 'PAY_AMT3',\n",
       " 'PAY_AMT4',\n",
       " 'PAY_AMT5',\n",
       " 'PAY_AMT6',\n",
       " 'QUALIFICATION',\n",
       " 'GENDER']"
      ]
     },
     "execution_count": 25,
     "metadata": {},
     "output_type": "execute_result"
    }
   ],
   "source": [
    "col_final"
   ]
  },
  {
   "cell_type": "code",
   "execution_count": 26,
   "id": "3182dd9f",
   "metadata": {},
   "outputs": [],
   "source": [
    "# Model Building"
   ]
  },
  {
   "cell_type": "code",
   "execution_count": 27,
   "id": "296c81d5",
   "metadata": {},
   "outputs": [],
   "source": [
    "from sklearn.svm import SVC"
   ]
  },
  {
   "cell_type": "code",
   "execution_count": 28,
   "id": "ce622561",
   "metadata": {},
   "outputs": [
    {
     "data": {
      "text/plain": [
       "SVC(C=0.2, gamma=0.2, kernel='poly')"
      ]
     },
     "execution_count": 28,
     "metadata": {},
     "output_type": "execute_result"
    }
   ],
   "source": [
    "model_poly= SVC(kernel='poly',gamma=0.2,C=0.2)\n",
    "model_poly.fit(df_train[col_final],df_train['defaulter'])"
   ]
  },
  {
   "cell_type": "code",
   "execution_count": 29,
   "id": "7a921aeb",
   "metadata": {},
   "outputs": [],
   "source": [
    "yp = model_poly.predict(df_test[col_final])"
   ]
  },
  {
   "cell_type": "code",
   "execution_count": 30,
   "id": "bd175df8",
   "metadata": {},
   "outputs": [],
   "source": [
    "df_submission = pd.DataFrame({'Id':df_test['Id'], 'defaulter':yp})\n",
    "df_submission.to_csv('svm_p.csv', index=False)"
   ]
  },
  {
   "cell_type": "code",
   "execution_count": null,
   "id": "d62d6fd6",
   "metadata": {},
   "outputs": [],
   "source": []
  }
 ],
 "metadata": {
  "kernelspec": {
   "display_name": "Python 3 (ipykernel)",
   "language": "python",
   "name": "python3"
  },
  "language_info": {
   "codemirror_mode": {
    "name": "ipython",
    "version": 3
   },
   "file_extension": ".py",
   "mimetype": "text/x-python",
   "name": "python",
   "nbconvert_exporter": "python",
   "pygments_lexer": "ipython3",
   "version": "3.9.12"
  }
 },
 "nbformat": 4,
 "nbformat_minor": 5
}
